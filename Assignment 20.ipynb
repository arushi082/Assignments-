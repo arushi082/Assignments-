{
 "cells": [
  {
   "cell_type": "markdown",
   "metadata": {},
   "source": [
    "1. Set the variable test1 to the string \"This is a test of the emergency text system,\"and save test1 to a file named test.txt."
   ]
  },
  {
   "cell_type": "code",
   "execution_count": 9,
   "metadata": {},
   "outputs": [
    {
     "data": {
      "text/plain": [
       "43"
      ]
     },
     "execution_count": 9,
     "metadata": {},
     "output_type": "execute_result"
    }
   ],
   "source": [
    "test1=\"This is a test of the emergency text system\"\n",
    "fout = open('test','wt')\n",
    "fout.write(test1)\n",
    "fout.close()\n",
    "len(test1)"
   ]
  },
  {
   "cell_type": "markdown",
   "metadata": {},
   "source": [
    "2. Read the contents of the file test.txt into the variable test2. Is there a difference between test 1 and test 2?"
   ]
  },
  {
   "cell_type": "code",
   "execution_count": 22,
   "metadata": {},
   "outputs": [
    {
     "data": {
      "text/plain": [
       "'This is a test of the emergency text system'"
      ]
     },
     "execution_count": 22,
     "metadata": {},
     "output_type": "execute_result"
    }
   ],
   "source": [
    "fin= open('test', 'rt' )\n",
    "test2 = fin.read()\n",
    "fin.close()\n",
    "len(test2)\n",
    "test2\n",
    "## There is no difference between test1 and test2"
   ]
  },
  {
   "cell_type": "code",
   "execution_count": 21,
   "metadata": {},
   "outputs": [
    {
     "data": {
      "text/plain": [
       "['This is a test of the emergency text system']"
      ]
     },
     "execution_count": 21,
     "metadata": {},
     "output_type": "execute_result"
    }
   ],
   "source": [
    "with open (\"C:\\\\Users\\\\jai balaji\\\\ineuron\\\\test\", \"r\") as myfile:\n",
    "    test2=myfile.readlines()\n",
    "test2"
   ]
  },
  {
   "cell_type": "markdown",
   "metadata": {},
   "source": [
    "3. Create a CSV file called books.csv by using these lines:\n",
    "title,author,year\n",
    "The Weirdstone of Brisingamen,Alan Garner,1960\n",
    "Perdido Street Station,China Miéville,2000\n",
    "Thud!,Terry Pratchett,2005\n",
    "The Spellman Files,Lisa Lutz,2007\n",
    "Small Gods,Terry Pratchett,1992"
   ]
  },
  {
   "cell_type": "code",
   "execution_count": 51,
   "metadata": {},
   "outputs": [],
   "source": [
    "import csv\n",
    "with open('C:\\\\Users\\\\jai balaji\\\\ineuron\\\\books.csv', 'w', newline='') as file:\n",
    "    writer = csv.writer(file)\n",
    "    writer.writerow([\"title\", \"author\", \"year\"])\n",
    "    writer.writerow([\"The Weirdstone of Brisingamen\",\"Alan Garner\",1960])\n",
    "    writer.writerow([\"Perdido Street Station\",\"China Miéville\",2000])\n",
    "    writer.writerow([\"Thud!\",\"Terry Pratchett\",2005])\n",
    "    writer.writerow([\"The Spellman Files\",\"Lisa Lutz\",2007])\n",
    "    writer.writerow([\"Small Gods:\",\"Terry Pratchett\",1992])"
   ]
  },
  {
   "cell_type": "markdown",
   "metadata": {},
   "source": [
    "4. Use the sqlite3 module to create a SQLite database called books.db, and a table called books with these fields: title (text), author (text), and year (integer)."
   ]
  },
  {
   "cell_type": "code",
   "execution_count": 57,
   "metadata": {},
   "outputs": [
    {
     "name": "stdout",
     "output_type": "stream",
     "text": [
      "Table created successfully.\n"
     ]
    }
   ],
   "source": [
    "import sqlite3\n",
    "conn = sqlite3.connect('example.db')\n",
    "cursor = conn.cursor()\n",
    "cursor.execute(\"DROP TABLE IF EXISTS books\")\n",
    "sql ='''CREATE TABLE books(\n",
    "   title text(20) NOT NULL,\n",
    "   author text(20),\n",
    "   year int\n",
    ")'''\n",
    "cursor.execute(sql)\n",
    "print(\"Table created successfully.\")\n",
    "conn.commit()"
   ]
  },
  {
   "cell_type": "markdown",
   "metadata": {},
   "source": [
    "5. Read books.csv and insert its data into the book table."
   ]
  },
  {
   "cell_type": "code",
   "execution_count": 58,
   "metadata": {},
   "outputs": [],
   "source": [
    "import pandas as pd\n",
    "book=pd.read_csv('books.csv',encoding='latin-1')"
   ]
  },
  {
   "cell_type": "code",
   "execution_count": 63,
   "metadata": {},
   "outputs": [
    {
     "data": {
      "text/plain": [
       "[('The Weirdstone of Brisingamen', 'Alan Garner', 1960),\n",
       " ('Perdido Street Station', 'China Miéville', 2000),\n",
       " ('Thud!', 'Terry Pratchett', 2005),\n",
       " ('The Spellman Files', 'Lisa Lutz', 2007),\n",
       " ('Small Gods:', 'Terry Pratchett', 1992),\n",
       " ('The Weirdstone of Brisingamen', 'Alan Garner', 1960),\n",
       " ('Perdido Street Station', 'China Miéville', 2000),\n",
       " ('Thud!', 'Terry Pratchett', 2005),\n",
       " ('The Spellman Files', 'Lisa Lutz', 2007),\n",
       " ('Small Gods:', 'Terry Pratchett', 1992),\n",
       " ('The Weirdstone of Brisingamen', 'Alan Garner', 1960),\n",
       " ('Perdido Street Station', 'China Miéville', 2000),\n",
       " ('Thud!', 'Terry Pratchett', 2005),\n",
       " ('The Spellman Files', 'Lisa Lutz', 2007),\n",
       " ('Small Gods:', 'Terry Pratchett', 1992),\n",
       " ('The Weirdstone of Brisingamen', 'Alan Garner', 1960),\n",
       " ('Perdido Street Station', 'China Miéville', 2000),\n",
       " ('Thud!', 'Terry Pratchett', 2005),\n",
       " ('The Spellman Files', 'Lisa Lutz', 2007),\n",
       " ('Small Gods:', 'Terry Pratchett', 1992),\n",
       " ('The Weirdstone of Brisingamen', 'Alan Garner', 1960),\n",
       " ('Perdido Street Station', 'China Miéville', 2000),\n",
       " ('Thud!', 'Terry Pratchett', 2005),\n",
       " ('The Spellman Files', 'Lisa Lutz', 2007),\n",
       " ('Small Gods:', 'Terry Pratchett', 1992)]"
      ]
     },
     "execution_count": 63,
     "metadata": {},
     "output_type": "execute_result"
    }
   ],
   "source": [
    "book.to_sql('books', conn, if_exists='append', index = False)\n",
    "cursor.execute('''SELECT * FROM books''').fetchall()"
   ]
  },
  {
   "cell_type": "markdown",
   "metadata": {},
   "source": [
    "6. Select and print the title column from the book table in alphabetical order."
   ]
  },
  {
   "cell_type": "code",
   "execution_count": 65,
   "metadata": {},
   "outputs": [
    {
     "data": {
      "text/plain": [
       "[('Perdido Street Station',),\n",
       " ('Perdido Street Station',),\n",
       " ('Perdido Street Station',),\n",
       " ('Perdido Street Station',),\n",
       " ('Perdido Street Station',),\n",
       " ('Small Gods:',),\n",
       " ('Small Gods:',),\n",
       " ('Small Gods:',),\n",
       " ('Small Gods:',),\n",
       " ('Small Gods:',),\n",
       " ('The Spellman Files',),\n",
       " ('The Spellman Files',),\n",
       " ('The Spellman Files',),\n",
       " ('The Spellman Files',),\n",
       " ('The Spellman Files',),\n",
       " ('The Weirdstone of Brisingamen',),\n",
       " ('The Weirdstone of Brisingamen',),\n",
       " ('The Weirdstone of Brisingamen',),\n",
       " ('The Weirdstone of Brisingamen',),\n",
       " ('The Weirdstone of Brisingamen',),\n",
       " ('Thud!',),\n",
       " ('Thud!',),\n",
       " ('Thud!',),\n",
       " ('Thud!',),\n",
       " ('Thud!',)]"
      ]
     },
     "execution_count": 65,
     "metadata": {},
     "output_type": "execute_result"
    }
   ],
   "source": [
    "cursor.execute('''SELECT title FROM books order by title asc''').fetchall()"
   ]
  },
  {
   "cell_type": "markdown",
   "metadata": {},
   "source": [
    "7. From the book table, select and print all columns in the order of publication."
   ]
  },
  {
   "cell_type": "code",
   "execution_count": 66,
   "metadata": {},
   "outputs": [
    {
     "data": {
      "text/plain": [
       "[('The Weirdstone of Brisingamen', 'Alan Garner', 1960),\n",
       " ('The Weirdstone of Brisingamen', 'Alan Garner', 1960),\n",
       " ('The Weirdstone of Brisingamen', 'Alan Garner', 1960),\n",
       " ('The Weirdstone of Brisingamen', 'Alan Garner', 1960),\n",
       " ('The Weirdstone of Brisingamen', 'Alan Garner', 1960),\n",
       " ('Perdido Street Station', 'China Miéville', 2000),\n",
       " ('Perdido Street Station', 'China Miéville', 2000),\n",
       " ('Perdido Street Station', 'China Miéville', 2000),\n",
       " ('Perdido Street Station', 'China Miéville', 2000),\n",
       " ('Perdido Street Station', 'China Miéville', 2000),\n",
       " ('The Spellman Files', 'Lisa Lutz', 2007),\n",
       " ('The Spellman Files', 'Lisa Lutz', 2007),\n",
       " ('The Spellman Files', 'Lisa Lutz', 2007),\n",
       " ('The Spellman Files', 'Lisa Lutz', 2007),\n",
       " ('The Spellman Files', 'Lisa Lutz', 2007),\n",
       " ('Thud!', 'Terry Pratchett', 2005),\n",
       " ('Small Gods:', 'Terry Pratchett', 1992),\n",
       " ('Thud!', 'Terry Pratchett', 2005),\n",
       " ('Small Gods:', 'Terry Pratchett', 1992),\n",
       " ('Thud!', 'Terry Pratchett', 2005),\n",
       " ('Small Gods:', 'Terry Pratchett', 1992),\n",
       " ('Thud!', 'Terry Pratchett', 2005),\n",
       " ('Small Gods:', 'Terry Pratchett', 1992),\n",
       " ('Thud!', 'Terry Pratchett', 2005),\n",
       " ('Small Gods:', 'Terry Pratchett', 1992)]"
      ]
     },
     "execution_count": 66,
     "metadata": {},
     "output_type": "execute_result"
    }
   ],
   "source": [
    "cursor.execute('''SELECT * FROM books order by author asc''').fetchall()"
   ]
  },
  {
   "cell_type": "markdown",
   "metadata": {},
   "source": [
    "8. Use the sqlalchemy module to connect to the sqlite3 database books.db that you just made in\n",
    "exercise 6."
   ]
  },
  {
   "cell_type": "code",
   "execution_count": null,
   "metadata": {},
   "outputs": [],
   "source": [
    "import sqlalchemy\n",
    "import pandas as pd\n",
    "dbEngine=sqlalchemy.create_engine('sqlite:////home/stephen/db1.db')\n",
    "pd.read_sql('select * from books',dbEngine)"
   ]
  },
  {
   "cell_type": "markdown",
   "metadata": {},
   "source": [
    "9. Install the Redis server and the Python redis library (pip install redis) on your computer. Create a Redis hash called test with the fields count (1) and name (\"Fester Bestertester\"). Print all the fields for test."
   ]
  },
  {
   "cell_type": "code",
   "execution_count": null,
   "metadata": {},
   "outputs": [],
   "source": [
    "import redis\n",
    "conn = redis.Redis()\n",
    "conn.delete('test')\n",
    "conn.hmset('test', {'count': 1, 'name': 'Fester Bestertester'})\n",
    "conn.hgetall('test')"
   ]
  },
  {
   "cell_type": "markdown",
   "metadata": {},
   "source": [
    "10. Increment the count field of test and print it."
   ]
  },
  {
   "cell_type": "code",
   "execution_count": null,
   "metadata": {},
   "outputs": [],
   "source": [
    "conn.hincrby('test', 'count', 3)\n",
    "conn.hget('test', 'count')"
   ]
  }
 ],
 "metadata": {
  "kernelspec": {
   "display_name": "Python 3",
   "language": "python",
   "name": "python3"
  },
  "language_info": {
   "codemirror_mode": {
    "name": "ipython",
    "version": 3
   },
   "file_extension": ".py",
   "mimetype": "text/x-python",
   "name": "python",
   "nbconvert_exporter": "python",
   "pygments_lexer": "ipython3",
   "version": "3.7.6"
  }
 },
 "nbformat": 4,
 "nbformat_minor": 4
}
