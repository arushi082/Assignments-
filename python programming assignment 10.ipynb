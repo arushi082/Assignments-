{
 "cells": [
  {
   "cell_type": "markdown",
   "metadata": {},
   "source": [
    "1. Write a Python program to find sum of elements in list?\n"
   ]
  },
  {
   "cell_type": "code",
   "execution_count": 5,
   "metadata": {},
   "outputs": [
    {
     "name": "stdout",
     "output_type": "stream",
     "text": [
      "Sum of list of elements is 1048\n"
     ]
    }
   ],
   "source": [
    "sum=0\n",
    "list=[12,34,67,890,45]\n",
    "for i in range(0,len(list)):\n",
    "    sum=sum+list[i]\n",
    "print(\"Sum of list of elements is\", sum)"
   ]
  },
  {
   "cell_type": "markdown",
   "metadata": {},
   "source": [
    "2. Write a Python program to Multiply all numbers in the list?\n"
   ]
  },
  {
   "cell_type": "code",
   "execution_count": 7,
   "metadata": {},
   "outputs": [
    {
     "name": "stdout",
     "output_type": "stream",
     "text": [
      "Product of list of elements is 1094806800\n"
     ]
    }
   ],
   "source": [
    "multiply=1\n",
    "list=[12,34,67,890,45]\n",
    "for i in range(0,len(list)):\n",
    "    multiply=multiply*list[i]\n",
    "print(\"Product of list of elements is\", multiply)"
   ]
  },
  {
   "cell_type": "markdown",
   "metadata": {},
   "source": [
    "3. Write a Python program to find smallest number in a list?\n"
   ]
  },
  {
   "cell_type": "code",
   "execution_count": 16,
   "metadata": {},
   "outputs": [
    {
     "name": "stdout",
     "output_type": "stream",
     "text": [
      "Enter number of elements in list: 3\n",
      "Enter elements: 78\n",
      "Enter elements: 98\n",
      "Enter elements: 56\n",
      "Smallest element is 56\n"
     ]
    }
   ],
   "source": [
    "list= []\n",
    "num = int(input(\"Enter number of elements in list: \"))\n",
    "for i in range(1, num + 1):\n",
    "    a= int(input(\"Enter elements: \"))\n",
    "    list.append(a)\n",
    "print(\"Smallest element is\",min(list))"
   ]
  },
  {
   "cell_type": "markdown",
   "metadata": {},
   "source": [
    "4. Write a Python program to find largest number in a list?\n"
   ]
  },
  {
   "cell_type": "code",
   "execution_count": 18,
   "metadata": {},
   "outputs": [
    {
     "name": "stdout",
     "output_type": "stream",
     "text": [
      "Enter number of elements in list: 3\n",
      "Enter elements: 789\n",
      "Enter elements: 98\n",
      "Enter elements: 67\n",
      "Largest element is 789\n"
     ]
    }
   ],
   "source": [
    "list= []\n",
    "num = int(input(\"Enter number of elements in list: \"))\n",
    "for i in range(1, num + 1):\n",
    "    a= int(input(\"Enter elements: \"))\n",
    "    list.append(a)\n",
    "print(\"Largest element is\",max(list))"
   ]
  },
  {
   "cell_type": "markdown",
   "metadata": {},
   "source": [
    "5. Write a Python program to find second largest number in a list?\n"
   ]
  },
  {
   "cell_type": "code",
   "execution_count": 20,
   "metadata": {},
   "outputs": [
    {
     "name": "stdout",
     "output_type": "stream",
     "text": [
      "Enter number of elements in list: 4\n",
      "Enter elements: 34\n",
      "Enter elements: 22\n",
      "Enter elements: 11\n",
      "Enter elements: 56\n",
      "Second largest element is 34\n"
     ]
    }
   ],
   "source": [
    "list= []\n",
    "num = int(input(\"Enter number of elements in list: \"))\n",
    "for i in range(1, num + 1):\n",
    "    a= int(input(\"Enter elements: \"))\n",
    "    list.append(a)\n",
    "    list.sort()\n",
    "print(\"Second largest element is\",list[-2])"
   ]
  },
  {
   "cell_type": "markdown",
   "metadata": {},
   "source": [
    "6. Write a Python program to find N largest elements from a list?\n"
   ]
  },
  {
   "cell_type": "code",
   "execution_count": 1,
   "metadata": {},
   "outputs": [
    {
     "name": "stdout",
     "output_type": "stream",
     "text": [
      "Enter number of elements in list: 3\n",
      "Enter how many largest elements you want = 65\n",
      "Enter elements: 98\n",
      "Enter elements: 76\n",
      "Enter elements: 78\n",
      "[98, 78, 76]\n"
     ]
    }
   ],
   "source": [
    "list= []\n",
    "num = int(input(\"Enter number of elements in list: \"))\n",
    "n=int(input(\"Enter how many largest elements you want = \"))\n",
    "for i in range(1, num + 1):\n",
    "    a= int(input(\"Enter elements: \"))\n",
    "    list.append(a)\n",
    "    list.sort(reverse=True)\n",
    "    list1=list[0:n]\n",
    "print(list1)"
   ]
  },
  {
   "cell_type": "markdown",
   "metadata": {},
   "source": [
    "7. Write a Python program to print even numbers in a list?\n"
   ]
  },
  {
   "cell_type": "code",
   "execution_count": 1,
   "metadata": {},
   "outputs": [
    {
     "name": "stdout",
     "output_type": "stream",
     "text": [
      "Enter number of elements in list: 4\n",
      "Enter elements: 45\n",
      "Enter elements: 76\n",
      "Enter elements: 98\n",
      "Enter elements: 100\n",
      "76\n",
      "98\n",
      "100\n"
     ]
    }
   ],
   "source": [
    "list= []\n",
    "num = int(input(\"Enter number of elements in list: \"))\n",
    "for i in range(1, num + 1):\n",
    "    a= int(input(\"Enter elements: \"))\n",
    "    list.append(a)\n",
    "for num in list: \n",
    "    if num % 2 == 0:\n",
    "        print(num)"
   ]
  },
  {
   "cell_type": "markdown",
   "metadata": {},
   "source": [
    "8. Write a Python program to print odd numbers in a List?\n"
   ]
  },
  {
   "cell_type": "code",
   "execution_count": 2,
   "metadata": {},
   "outputs": [
    {
     "name": "stdout",
     "output_type": "stream",
     "text": [
      "Enter number of elements in list: 3\n",
      "Enter elements: 67\n",
      "Enter elements: 90\n",
      "Enter elements: 56\n",
      "67\n"
     ]
    }
   ],
   "source": [
    "list= []\n",
    "num = int(input(\"Enter number of elements in list: \"))\n",
    "for i in range(1, num + 1):\n",
    "    a= int(input(\"Enter elements: \"))\n",
    "    list.append(a)\n",
    "for num in list: \n",
    "    if num % 2 !=0:\n",
    "        print(num)"
   ]
  },
  {
   "cell_type": "markdown",
   "metadata": {},
   "source": [
    "9. Write a Python program to Remove empty List from List?\n"
   ]
  },
  {
   "cell_type": "code",
   "execution_count": 3,
   "metadata": {},
   "outputs": [
    {
     "name": "stdout",
     "output_type": "stream",
     "text": [
      "List after empty list removal : [23, 90, 89]\n"
     ]
    }
   ],
   "source": [
    "list=[[],[],23,90,89]\n",
    "res = [i for i  in list if i != []]\n",
    "print (\"List after empty list removal : \" + str(res))"
   ]
  },
  {
   "cell_type": "markdown",
   "metadata": {},
   "source": [
    "10. Write a Python program to Cloning or Copying a list?\n"
   ]
  },
  {
   "cell_type": "code",
   "execution_count": 4,
   "metadata": {},
   "outputs": [
    {
     "name": "stdout",
     "output_type": "stream",
     "text": [
      "Original List: [4, 8, 2, 10, 15, 18]\n",
      "After Cloning: [4, 8, 2, 10, 15, 18]\n"
     ]
    }
   ],
   "source": [
    "def Cloning(li1):\n",
    "    li_copy = li1[:]\n",
    "    return li_copy\n",
    "li1 = [4, 8, 2, 10, 15, 18]\n",
    "li2 = Cloning(li1)\n",
    "print(\"Original List:\", li1)\n",
    "print(\"After Cloning:\", li2)"
   ]
  },
  {
   "cell_type": "markdown",
   "metadata": {},
   "source": [
    "11. Write a Python program to Count occurrences of an element in a list?"
   ]
  },
  {
   "cell_type": "code",
   "execution_count": 4,
   "metadata": {},
   "outputs": [
    {
     "data": {
      "text/plain": [
       "3"
      ]
     },
     "execution_count": 4,
     "metadata": {},
     "output_type": "execute_result"
    }
   ],
   "source": [
    "def countfreq(list1, x):\n",
    "    count = 0\n",
    "    for i in list1:\n",
    "        if (i == x):\n",
    "            count = count + 1\n",
    "    return count\n",
    "countfreq([2,9,9,8,8,8,7,5,0,0,5],8)"
   ]
  }
 ],
 "metadata": {
  "kernelspec": {
   "display_name": "Python 3",
   "language": "python",
   "name": "python3"
  },
  "language_info": {
   "codemirror_mode": {
    "name": "ipython",
    "version": 3
   },
   "file_extension": ".py",
   "mimetype": "text/x-python",
   "name": "python",
   "nbconvert_exporter": "python",
   "pygments_lexer": "ipython3",
   "version": "3.7.6"
  }
 },
 "nbformat": 4,
 "nbformat_minor": 4
}
