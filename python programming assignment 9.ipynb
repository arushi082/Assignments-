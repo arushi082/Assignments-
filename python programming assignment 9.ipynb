{
 "cells": [
  {
   "cell_type": "markdown",
   "metadata": {},
   "source": [
    "1. Write a Python program to check if the given number is a Disarium Number?\n"
   ]
  },
  {
   "cell_type": "code",
   "execution_count": 9,
   "metadata": {},
   "outputs": [
    {
     "name": "stdout",
     "output_type": "stream",
     "text": [
      "Enter an integer = 89\n",
      "The number is a disarium number\n"
     ]
    }
   ],
   "source": [
    "def callength(n):\n",
    "    length=0\n",
    "    while n>0:\n",
    "        length=length+1\n",
    "        n=n//10\n",
    "    return length\n",
    "num=int(input(\"Enter an integer = \"))\n",
    "l=callength(num)\n",
    "n=num\n",
    "r=0\n",
    "sum=0\n",
    "while num>0:\n",
    "    r=num%10\n",
    "    sum=sum+int(r**l)\n",
    "    num=num//10\n",
    "    l=l-1\n",
    "    \n",
    "if sum==n:\n",
    "    print(\"The number is a disarium number\")\n",
    "else:\n",
    "    print(\"It is not a disarium number\")\n"
   ]
  },
  {
   "cell_type": "markdown",
   "metadata": {},
   "source": [
    "2. Write a Python program to print all disarium numbers between 1 to 100?\n"
   ]
  },
  {
   "cell_type": "code",
   "execution_count": 4,
   "metadata": {},
   "outputs": [
    {
     "name": "stdout",
     "output_type": "stream",
     "text": [
      "1\n",
      "2\n",
      "3\n",
      "4\n",
      "5\n",
      "6\n",
      "7\n",
      "8\n",
      "9\n",
      "89\n"
     ]
    }
   ],
   "source": [
    "def callength(n):\n",
    "    length=0\n",
    "    while n>0:\n",
    "        length=length+1\n",
    "        n=n//10\n",
    "    return length\n",
    "\n",
    "def disarium(num):\n",
    "    l=callength(num)\n",
    "    n=num\n",
    "    r=0\n",
    "    sum=0\n",
    "    while num>0:\n",
    "        r=num%10\n",
    "        sum=sum+int(r**l)\n",
    "        num=num//10\n",
    "        l=l-1\n",
    "    return sum\n",
    "result=0\n",
    "for i in range(1,101):\n",
    "    result=disarium(i)\n",
    "    if result==i:\n",
    "        print(i) \n",
    "    \n"
   ]
  },
  {
   "cell_type": "markdown",
   "metadata": {},
   "source": [
    "3. Write a Python program to check if the given number is Happy Number?\n"
   ]
  },
  {
   "cell_type": "code",
   "execution_count": 5,
   "metadata": {},
   "outputs": [
    {
     "name": "stdout",
     "output_type": "stream",
     "text": [
      "Enter an integer = 32\n",
      "This is a happy number\n"
     ]
    }
   ],
   "source": [
    "def happynum(num):\n",
    "    r=sum=0\n",
    "    while num>0:\n",
    "        r=num%10\n",
    "        sum=sum+(r*r)\n",
    "        num=num//10\n",
    "    return sum\n",
    "num=int(input(\"Enter an integer = \"))\n",
    "n=num\n",
    "while(n != 1 and n != 4):    \n",
    "    n =happynum(n);    \n",
    "     \n",
    "    \n",
    "if(n == 1):    \n",
    "    print( \"This is a happy number\");    \n",
    "    \n",
    "elif(result == 4):    \n",
    "    print( \" This is not a happy number\");   \n"
   ]
  },
  {
   "cell_type": "markdown",
   "metadata": {},
   "source": [
    "4. Write a Python program to print all happy numbers between 1 and 100?\n"
   ]
  },
  {
   "cell_type": "code",
   "execution_count": 2,
   "metadata": {},
   "outputs": [
    {
     "name": "stdout",
     "output_type": "stream",
     "text": [
      "1\n",
      "7\n",
      "10\n",
      "13\n",
      "19\n",
      "23\n",
      "28\n",
      "31\n",
      "32\n",
      "44\n",
      "49\n",
      "68\n",
      "70\n",
      "79\n",
      "82\n",
      "86\n",
      "91\n",
      "94\n",
      "97\n",
      "100\n"
     ]
    }
   ],
   "source": [
    "def happynum(num):\n",
    "    r=sum=0\n",
    "    while num>0:\n",
    "        r=num%10\n",
    "        sum=sum+(r*r)\n",
    "        num=num//10\n",
    "    return sum\n",
    "\n",
    "\n",
    "for i in range(1,101):\n",
    "    n=i\n",
    "    while(n != 1 and n != 4):    \n",
    "        n =happynum(n);  \n",
    "    if(n == 1): \n",
    "        print(i) \n",
    "       \n",
    "     "
   ]
  },
  {
   "cell_type": "markdown",
   "metadata": {},
   "source": [
    "5. Write a Python program to determine whether the given number is a Harshad Number?\n"
   ]
  },
  {
   "cell_type": "code",
   "execution_count": 15,
   "metadata": {},
   "outputs": [
    {
     "name": "stdout",
     "output_type": "stream",
     "text": [
      "This is not a harshad number\n"
     ]
    }
   ],
   "source": [
    "def harshadnum(num):  \n",
    "    sum=0\n",
    "    n=0\n",
    "    r=num\n",
    "    while num > 0:\n",
    "        n = num % 10\n",
    "        sum = sum + n\n",
    "        num = num//10 \n",
    "    if(r % sum==0):\n",
    "        print(\"This is harshad number\")\n",
    "    else:\n",
    "        print(\"This is not a harshad number\")\n",
    "harshadnum(98)"
   ]
  },
  {
   "cell_type": "markdown",
   "metadata": {},
   "source": [
    "6. Write a Python program to print all pronic numbers between 1 and 100?"
   ]
  },
  {
   "cell_type": "code",
   "execution_count": 16,
   "metadata": {},
   "outputs": [
    {
     "name": "stdout",
     "output_type": "stream",
     "text": [
      "Pronic numbers between 1 and 100: \n",
      "2\n",
      "6\n",
      "12\n",
      "20\n",
      "30\n",
      "42\n",
      "56\n",
      "72\n",
      "90\n"
     ]
    }
   ],
   "source": [
    "def pronicnum(num):    \n",
    "    flag = False;    \n",
    "        \n",
    "    for j in range(1, num+1):        \n",
    "        if((j*(j+1)) == num):    \n",
    "            flag = True;    \n",
    "            break;    \n",
    "    return flag;    \n",
    "print(\"Pronic numbers between 1 and 100: \");    \n",
    "for i in range(1, 101):    \n",
    "    if(pronicnum(i)):    \n",
    "        print(i)"
   ]
  }
 ],
 "metadata": {
  "kernelspec": {
   "display_name": "Python 3",
   "language": "python",
   "name": "python3"
  },
  "language_info": {
   "codemirror_mode": {
    "name": "ipython",
    "version": 3
   },
   "file_extension": ".py",
   "mimetype": "text/x-python",
   "name": "python",
   "nbconvert_exporter": "python",
   "pygments_lexer": "ipython3",
   "version": "3.7.6"
  }
 },
 "nbformat": 4,
 "nbformat_minor": 4
}
