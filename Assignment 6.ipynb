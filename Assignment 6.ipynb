{
 "cells": [
  {
   "cell_type": "markdown",
   "metadata": {},
   "source": [
    "1. What are escape characters, and how do you use them?"
   ]
  },
  {
   "cell_type": "markdown",
   "metadata": {},
   "source": [
    "An escape character lets one use  characters that are otherwise impossible to put into a string. An escape character consists of a backslash (\\) followed by the character one wants to add to the string. .If you need to use both single quotes and double quotes in the string, you’ll need to use escape characters. For example:-"
   ]
  },
  {
   "cell_type": "code",
   "execution_count": 4,
   "metadata": {},
   "outputs": [
    {
     "name": "stdout",
     "output_type": "stream",
     "text": [
      "Hello I am Arushi!\n",
      "How are you?\n",
      "I'm fine.\n"
     ]
    }
   ],
   "source": [
    " a=print('Hello I am Arushi!\\nHow are you?\\nI\\'m fine.') \n",
    "#so in the above statement if \\ is not used n would not let us jump to next line and also String would end azt I'm \n",
    "a"
   ]
  },
  {
   "cell_type": "markdown",
   "metadata": {},
   "source": [
    "2. What do the escape characters n and t stand for?"
   ]
  },
  {
   "cell_type": "markdown",
   "metadata": {},
   "source": [
    "Escape characters n stands for new line and t stands for tab "
   ]
  },
  {
   "cell_type": "code",
   "execution_count": 7,
   "metadata": {},
   "outputs": [
    {
     "name": "stdout",
     "output_type": "stream",
     "text": [
      "hello\n",
      "this is for new line\n",
      "\t this is for tab which is for space\n"
     ]
    }
   ],
   "source": [
    "print(\"hello\\nthis is for new line\\n\\t this is for tab which is for space\")"
   ]
  },
  {
   "cell_type": "markdown",
   "metadata": {},
   "source": [
    "3. What is the way to include backslash characters in a string?"
   ]
  },
  {
   "cell_type": "markdown",
   "metadata": {},
   "source": [
    "One can use \\\\ to use backslash characters in a string"
   ]
  },
  {
   "cell_type": "code",
   "execution_count": 10,
   "metadata": {},
   "outputs": [
    {
     "name": "stdout",
     "output_type": "stream",
     "text": [
      "hello\n",
      "\\\n"
     ]
    }
   ],
   "source": [
    "print(\"hello\\n\\\\\")"
   ]
  },
  {
   "cell_type": "markdown",
   "metadata": {},
   "source": [
    "4. The string\"Howl's Moving Castle\" is a correct value. Why isn't the single quote character in the\n",
    "word Howl's not escaped a problem?"
   ]
  },
  {
   "cell_type": "markdown",
   "metadata": {},
   "source": [
    "As we know there are many ways to do solve a problem statement similary there are many ways to type a string and one of them is using double quotes at begnning and ending of string and so single quote in Howl's didn't give us an error"
   ]
  },
  {
   "cell_type": "markdown",
   "metadata": {},
   "source": [
    "5. How do you write a string of newlines if you don't want to use the n character?"
   ]
  },
  {
   "cell_type": "markdown",
   "metadata": {},
   "source": [
    "We can write strings in many ways and writing multiline strings is also a part of python strings instead of using \\n one can use multiline strings in python wherein  you can use either triple double quotes or triple single quotes at beginning and end of the string and any double or single quote \\ everything will be considered as a part of the string"
   ]
  },
  {
   "cell_type": "code",
   "execution_count": 14,
   "metadata": {},
   "outputs": [
    {
     "name": "stdout",
     "output_type": "stream",
     "text": [
      "Hello I am arushi\n",
      "How are you? \n",
      "I'm fine \n"
     ]
    }
   ],
   "source": [
    "print(\"\"\"Hello I am arushi\n",
    "How are you? \n",
    "I'm fine \"\"\")"
   ]
  },
  {
   "cell_type": "markdown",
   "metadata": {},
   "source": [
    "6. What are the values of the given expressions?\n",
    "'Hello, world!'[1]\n",
    "'Hello, world!'[0:5]\n",
    "'Hello, world!'[:5]\n",
    "'Hello, world!'[3:]\n"
   ]
  },
  {
   "cell_type": "code",
   "execution_count": 22,
   "metadata": {},
   "outputs": [
    {
     "name": "stdout",
     "output_type": "stream",
     "text": [
      "e Hello Hello lo, world!\n"
     ]
    }
   ],
   "source": [
    "a='Hello, world!'[1] \n",
    "b='Hello, world!'[0:5] \n",
    "c='Hello, world!'[:5] \n",
    "d='Hello, world!'[3:]\n",
    "print(a,b,c,d) "
   ]
  },
  {
   "cell_type": "markdown",
   "metadata": {},
   "source": [
    "The above answers are according to indexing and slicing operations which are performed like \"Hello World!\" is considered as a list which has indexes starting from 0. If you specify an index, you’ll get the character at that position in the string. If you specify a range from one index to another, the starting index is included and the ending index is not. and so is the answers for above ."
   ]
  },
  {
   "cell_type": "markdown",
   "metadata": {},
   "source": [
    "7. What are the values of the following expressions?\n",
    "'Hello'.upper()\n",
    "'Hello'.upper().isupper()\n",
    "'Hello';.upper().lower()"
   ]
  },
  {
   "cell_type": "code",
   "execution_count": 26,
   "metadata": {},
   "outputs": [
    {
     "name": "stdout",
     "output_type": "stream",
     "text": [
      "HELLO\n",
      "True\n",
      "hello\n"
     ]
    }
   ],
   "source": [
    "a='Hello'.upper()\n",
    "b='Hello'.upper().isupper()\n",
    "c='Hello'.upper().lower()\n",
    "print(a)\n",
    "print(b)\n",
    "print(c)\n",
    "# these are inbuilt functions in python upper converts everything in upper case isupper checks whether everything is in upper case or not and gives a boolean result "
   ]
  },
  {
   "cell_type": "markdown",
   "metadata": {},
   "source": [
    "8. What are the values of the following expressions?\n",
    "'Remember, remember, the fifth of July.'.split()\n",
    "'-'.join('There can only one.'.split())\n"
   ]
  },
  {
   "cell_type": "code",
   "execution_count": 29,
   "metadata": {},
   "outputs": [
    {
     "name": "stdout",
     "output_type": "stream",
     "text": [
      "['Remember,', 'remember,', 'the', 'fifth', 'of', 'July.']\n",
      "There-can-only-one.\n"
     ]
    }
   ],
   "source": [
    "a='Remember, remember, the fifth of July.'.split()\n",
    "b='-'.join('There can only one.'.split())\n",
    "print(a)\n",
    "print(b)\n",
    "#The join() method is useful when you have a list of strings that need to be joined together into a single string value.\n",
    "#he split() method does the opposite: It’s called on a string value and returns a list of strings.These whitespace characters are not included in the strings in the returned list."
   ]
  },
  {
   "cell_type": "markdown",
   "metadata": {},
   "source": [
    "9. What are the methods for right-justifying, left-justifying, and centering a string?"
   ]
  },
  {
   "cell_type": "markdown",
   "metadata": {},
   "source": [
    "The rjust() and ljust() string methods return a padded version of the string they are called on, with spaces inserted to justify the text. The center() string method works like ljust() and rjust() but centers the text rather than justifying it to the left or right"
   ]
  },
  {
   "cell_type": "markdown",
   "metadata": {},
   "source": [
    "10. What is the best way to remove whitespace characters from the start or end?"
   ]
  },
  {
   "cell_type": "markdown",
   "metadata": {},
   "source": [
    "The strip() string method will return a new string without any whitespace characters at the beginning or end. The lstrip() and rstrip() methods will remove whitespace characters from the left and right ends, respectively"
   ]
  }
 ],
 "metadata": {
  "kernelspec": {
   "display_name": "Python 3",
   "language": "python",
   "name": "python3"
  },
  "language_info": {
   "codemirror_mode": {
    "name": "ipython",
    "version": 3
   },
   "file_extension": ".py",
   "mimetype": "text/x-python",
   "name": "python",
   "nbconvert_exporter": "python",
   "pygments_lexer": "ipython3",
   "version": "3.7.6"
  }
 },
 "nbformat": 4,
 "nbformat_minor": 4
}
