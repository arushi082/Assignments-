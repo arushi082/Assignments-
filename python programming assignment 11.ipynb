{
 "cells": [
  {
   "cell_type": "markdown",
   "metadata": {},
   "source": [
    "1. Write a Python program to find words which are greater than given length k?"
   ]
  },
  {
   "cell_type": "code",
   "execution_count": 17,
   "metadata": {},
   "outputs": [
    {
     "name": "stdout",
     "output_type": "stream",
     "text": [
      "Enter the value of k =3\n",
      "Enter the value of string = My name is Arushi\n"
     ]
    },
    {
     "data": {
      "text/plain": [
       "['name', 'Arushi']"
      ]
     },
     "execution_count": 17,
     "metadata": {},
     "output_type": "execute_result"
    }
   ],
   "source": [
    "def check(k,strk):\n",
    "    a=[]\n",
    "    text=strk.split(\" \")\n",
    "    for x in text:\n",
    "        if len(x) > k:\n",
    "            a.append(x)\n",
    "    return a\n",
    "k=int(input(\"Enter the value of k =\"))\n",
    "strk=input(\"Enter the value of string = \")\n",
    "check(k,strk)"
   ]
  },
  {
   "cell_type": "markdown",
   "metadata": {},
   "source": [
    "2. Write a Python program for removing i-th character from a string?"
   ]
  },
  {
   "cell_type": "code",
   "execution_count": 20,
   "metadata": {},
   "outputs": [
    {
     "name": "stdout",
     "output_type": "stream",
     "text": [
      "Enter the value of i =4\n",
      "Enter the value of string = my name is arushi\n"
     ]
    },
    {
     "data": {
      "text/plain": [
       "'my nme is arushi'"
      ]
     },
     "execution_count": 20,
     "metadata": {},
     "output_type": "execute_result"
    }
   ],
   "source": [
    "def delete(i,strk):\n",
    "    for j in range(len(strk)):\n",
    "        if j == i:\n",
    "            strk = strk.replace(strk[i], \"\", 1)\n",
    "    return strk\n",
    "i=int(input(\"Enter the value of i =\"))\n",
    "strk=input(\"Enter the value of string = \")\n",
    "delete(i,strk)\n",
    "      "
   ]
  },
  {
   "cell_type": "markdown",
   "metadata": {},
   "source": [
    "3. Write a Python program to split and join a string?"
   ]
  },
  {
   "cell_type": "code",
   "execution_count": 31,
   "metadata": {},
   "outputs": [
    {
     "name": "stdout",
     "output_type": "stream",
     "text": [
      "Enter the string = my name is this\n"
     ]
    },
    {
     "data": {
      "text/plain": [
       "'my-name-is-this'"
      ]
     },
     "execution_count": 31,
     "metadata": {},
     "output_type": "execute_result"
    }
   ],
   "source": [
    "def split_join(string):\n",
    "    a = string.split(' ')\n",
    "    string = '-'.join(a)\n",
    "    return string\n",
    "string=input(\"Enter the string = \")\n",
    "split_join(string)\n",
    "\n"
   ]
  },
  {
   "cell_type": "markdown",
   "metadata": {},
   "source": [
    "4. Write a Python to check if a given string is binary string or not?"
   ]
  },
  {
   "cell_type": "code",
   "execution_count": 7,
   "metadata": {},
   "outputs": [
    {
     "name": "stdout",
     "output_type": "stream",
     "text": [
      "Enter the String00\n",
      "It is a binary string\n"
     ]
    }
   ],
   "source": [
    "def check_binarystr(String):\n",
    "    \n",
    "    for char in string:\n",
    "        count=0\n",
    "        if char=='0'and char=='1':\n",
    "            count=count+1\n",
    "        else:\n",
    "            pass\n",
    "    if count!=0:\n",
    "        print(\"It is not a binary string\")\n",
    "    else:\n",
    "        print(\"It is a binary string\")\n",
    "string=input(\"Enter the String\")\n",
    "check_binarystr(string)"
   ]
  },
  {
   "cell_type": "markdown",
   "metadata": {},
   "source": [
    "5. Write a Python program to find uncommon words from two Strings?"
   ]
  },
  {
   "cell_type": "code",
   "execution_count": 2,
   "metadata": {},
   "outputs": [
    {
     "name": "stdout",
     "output_type": "stream",
     "text": [
      "Enter string A=my name is\n",
      "Enter string B=name is arushi\n",
      "{'arushi', 'my'}\n"
     ]
    }
   ],
   "source": [
    "def find(a,b):\n",
    "    a=a.split()\n",
    "    b=b.split()\n",
    "    k=set(a).symmetric_difference(set(b))\n",
    "    return k\n",
    "A = input(\"Enter string A=\")\n",
    "B = input(\"Enter string B=\")\n",
    "print(find(A, B))"
   ]
  },
  {
   "cell_type": "markdown",
   "metadata": {},
   "source": [
    "6. Write a Python to find all duplicate characters in string?"
   ]
  },
  {
   "cell_type": "code",
   "execution_count": 3,
   "metadata": {},
   "outputs": [
    {
     "name": "stdout",
     "output_type": "stream",
     "text": [
      "Enter the stringi am student at delhi university.i am studying bsc(h) computer science. i want to be a data scientist\n",
      "['i', ' ', 'a', 'm', 's', 't', 'u', 'd', 'e', 'n', 'h', 'r', 'y', '.', 'b', 'c', 'o']\n"
     ]
    }
   ],
   "source": [
    "string=input(\"Enter the string\")\n",
    "duplicates = []\n",
    "for char in string:\n",
    "    if string.count(char) > 1:\n",
    "        if char not in duplicates:\n",
    "            duplicates.append(char)\n",
    "print(duplicates)\n"
   ]
  },
  {
   "cell_type": "markdown",
   "metadata": {},
   "source": [
    "7. Write a Python Program to check if a string contains any special character?"
   ]
  },
  {
   "cell_type": "code",
   "execution_count": 4,
   "metadata": {},
   "outputs": [
    {
     "name": "stdout",
     "output_type": "stream",
     "text": [
      "String is not accepted.\n"
     ]
    }
   ],
   "source": [
    "import re\n",
    "def check(string):\n",
    "    regex = re.compile('[@_!#$%^&*()<>?/\\|}{~:]') \n",
    "    if(regex.search(string) == None):\n",
    "        print(\"String is accepted\")         \n",
    "    else:\n",
    "        print(\"String is not accepted.\")\n",
    "check(\"@!okay\")"
   ]
  }
 ],
 "metadata": {
  "kernelspec": {
   "display_name": "Python 3",
   "language": "python",
   "name": "python3"
  },
  "language_info": {
   "codemirror_mode": {
    "name": "ipython",
    "version": 3
   },
   "file_extension": ".py",
   "mimetype": "text/x-python",
   "name": "python",
   "nbconvert_exporter": "python",
   "pygments_lexer": "ipython3",
   "version": "3.7.6"
  }
 },
 "nbformat": 4,
 "nbformat_minor": 4
}
