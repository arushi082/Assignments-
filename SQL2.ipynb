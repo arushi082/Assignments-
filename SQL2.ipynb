{
 "cells": [
  {
   "cell_type": "code",
   "execution_count": null,
   "metadata": {},
   "outputs": [],
   "source": [
    "Q-1. Write an SQL query to print the first three characters of  FIRST_NAME from Worker\n",
    "table."
   ]
  },
  {
   "cell_type": "code",
   "execution_count": null,
   "metadata": {},
   "outputs": [],
   "source": [
    "select SUBSTRING(FIRST_NAME,1,3) from Worker"
   ]
  },
  {
   "cell_type": "code",
   "execution_count": null,
   "metadata": {},
   "outputs": [],
   "source": [
    " Q-2. Write an SQL query to find the position of the alphabet (‘a’) in the first name\n",
    "column ‘Amitabh’ from Worker table."
   ]
  },
  {
   "cell_type": "code",
   "execution_count": null,
   "metadata": {},
   "outputs": [],
   "source": [
    "select POSITION(\"a\" IN first_name) from Worker where first_name = \"Amitabh\""
   ]
  },
  {
   "cell_type": "code",
   "execution_count": null,
   "metadata": {},
   "outputs": [],
   "source": [
    "Q-3. Write an SQL query to print the name of employees having the highest salary in each\n",
    "department."
   ]
  },
  {
   "cell_type": "code",
   "execution_count": null,
   "metadata": {},
   "outputs": [],
   "source": [
    "select Department.Name as Department, e1.Name as Employee, e1.Salary as Salary\n",
    "from Department join Employee e1 ON Department.Id = e1.DepartmentId\n",
    "where e1.Salary = (select Max(Salary) from Employee e2 where e2.DepartmentId = e1.DepartmentId)"
   ]
  }
 ],
 "metadata": {
  "kernelspec": {
   "display_name": "Python 3",
   "language": "python",
   "name": "python3"
  },
  "language_info": {
   "codemirror_mode": {
    "name": "ipython",
    "version": 3
   },
   "file_extension": ".py",
   "mimetype": "text/x-python",
   "name": "python",
   "nbconvert_exporter": "python",
   "pygments_lexer": "ipython3",
   "version": "3.7.6"
  }
 },
 "nbformat": 4,
 "nbformat_minor": 4
}
