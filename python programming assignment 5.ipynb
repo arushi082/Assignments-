{
 "cells": [
  {
   "cell_type": "markdown",
   "metadata": {},
   "source": [
    "1. Write a Python Program to Find LCM?"
   ]
  },
  {
   "cell_type": "code",
   "execution_count": null,
   "metadata": {},
   "outputs": [],
   "source": [
    "num1= int(input(\"Enter first number\"))\n",
    "num2= int(input(\"Enter second number\"))\n",
    "if num1>num2:\n",
    "    temp=num1\n",
    "else:\n",
    "    temp=num2\n",
    "while(True):\n",
    "    if(temp%num1==0)and(temp%num2==0):\n",
    "## here it will check that if these 2 nos are completely divisible by the greater of 2 no then that is the lcm otherwise no would be incremented one by one and checked and when the both the conditions are the true it will print the lcm\n",
    "        lcm = temp\n",
    "        break\n",
    "    temp=temp+1\n",
    "print(\"The Lcm of\",num1 ,\"and\",num2,\"is\",lcm)\n",
    "        "
   ]
  },
  {
   "cell_type": "code",
   "execution_count": null,
   "metadata": {},
   "outputs": [],
   "source": [
    "2. Write a Python Program to Find HCF?"
   ]
  },
  {
   "cell_type": "code",
   "execution_count": 15,
   "metadata": {},
   "outputs": [
    {
     "name": "stdout",
     "output_type": "stream",
     "text": [
      "Enter first number=24\n",
      "Enter second number=54\n",
      "6\n"
     ]
    }
   ],
   "source": [
    "num1= int(input(\"Enter first number=\"))\n",
    "num2= int(input(\"Enter second number=\"))\n",
    "if num1 > num2:\n",
    "    smaller = num2\n",
    "else:\n",
    "    smaller = num1\n",
    "    for i in range(1,smaller + 1):\n",
    "        if((num1 % i == 0) and (num2 % i == 0)):\n",
    "            hcf = i  \n",
    "print(hcf)       "
   ]
  },
  {
   "cell_type": "code",
   "execution_count": null,
   "metadata": {},
   "outputs": [],
   "source": [
    "3. Write a Python Program to Convert Decimal to Binary, Octal and Hexadecimal?"
   ]
  },
  {
   "cell_type": "code",
   "execution_count": null,
   "metadata": {},
   "outputs": [],
   "source": [
    "num= int(input(\"Enter the number to be converted\"))\n",
    "print(\"The decimal value of\", num, \"is:\")\n",
    "print(bin(num), \"in binary.\")\n",
    "print(oct(num), \"in octal.\")\n",
    "print(hex(num), \"in hexadecimal.\")"
   ]
  },
  {
   "cell_type": "code",
   "execution_count": null,
   "metadata": {},
   "outputs": [],
   "source": [
    "4. Write a Python Program To Find ASCII value of a character?"
   ]
  },
  {
   "cell_type": "code",
   "execution_count": 3,
   "metadata": {},
   "outputs": [
    {
     "name": "stdout",
     "output_type": "stream",
     "text": [
      "Enter the character for the ASCII value:A\n",
      "The ASCII value of  A is 65\n"
     ]
    }
   ],
   "source": [
    "c=input(\"Enter the character for the ASCII value:\")\n",
    "print(\"The ASCII value of \",c,\"is\",ord(c))"
   ]
  },
  {
   "cell_type": "code",
   "execution_count": null,
   "metadata": {},
   "outputs": [],
   "source": [
    "5. Write a Python Program to Make a Simple Calculator with 4 basic mathematical operations?"
   ]
  },
  {
   "cell_type": "code",
   "execution_count": 11,
   "metadata": {},
   "outputs": [
    {
     "name": "stdout",
     "output_type": "stream",
     "text": [
      "Please select operation -\n",
      "1. Add\n",
      "2. Subtract\n",
      "3. Multiply\n",
      "4. Divide\n",
      "\n",
      "Select operations form 1, 2, 3, 4 :3\n",
      "Enter first number: 45\n",
      "Enter second number: 23\n",
      "1035\n"
     ]
    }
   ],
   "source": [
    "def add(num1,num2):\n",
    "    return num1+num2\n",
    "def subtract(num1,num2):\n",
    "    return num1-num2\n",
    "def multiply(num1,num2):\n",
    "    return num1*num2\n",
    "def divide(num1,num2):\n",
    "    return num1/num2\n",
    "print(\"Please select operation -\\n\" \\\n",
    "        \"1. Add\\n\" \\\n",
    "        \"2. Subtract\\n\" \\\n",
    "        \"3. Multiply\\n\" \\\n",
    "        \"4. Divide\\n\")\n",
    "  \n",
    "  \n",
    "choose = int(input(\"Select operations form 1, 2, 3, 4 :\"))\n",
    "  \n",
    "num1 = int(input(\"Enter first number: \"))\n",
    "num2 = int(input(\"Enter second number: \"))\n",
    "  \n",
    "if choose == 1:\n",
    "    print(add(num1,num2))\n",
    "  \n",
    "elif choose == 2:\n",
    "    print(subtract(num1, num2))\n",
    "  \n",
    "elif choose == 3:\n",
    "    print(multiply(num1, num2))\n",
    "  \n",
    "elif choose == 4:\n",
    "    print(divide(num1, num2))\n",
    "else:\n",
    "    print(\"Invalid input\")"
   ]
  },
  {
   "cell_type": "code",
   "execution_count": null,
   "metadata": {},
   "outputs": [],
   "source": []
  },
  {
   "cell_type": "code",
   "execution_count": null,
   "metadata": {},
   "outputs": [],
   "source": []
  }
 ],
 "metadata": {
  "kernelspec": {
   "display_name": "Python 3",
   "language": "python",
   "name": "python3"
  },
  "language_info": {
   "codemirror_mode": {
    "name": "ipython",
    "version": 3
   },
   "file_extension": ".py",
   "mimetype": "text/x-python",
   "name": "python",
   "nbconvert_exporter": "python",
   "pygments_lexer": "ipython3",
   "version": "3.7.6"
  }
 },
 "nbformat": 4,
 "nbformat_minor": 4
}
