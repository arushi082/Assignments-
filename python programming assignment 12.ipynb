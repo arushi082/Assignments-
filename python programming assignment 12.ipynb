{
 "cells": [
  {
   "cell_type": "markdown",
   "metadata": {},
   "source": [
    "1. Write a Python program to Extract Unique values dictionary values?"
   ]
  },
  {
   "cell_type": "code",
   "execution_count": 8,
   "metadata": {},
   "outputs": [
    {
     "name": "stdout",
     "output_type": "stream",
     "text": [
      "[1, 2, 12, 3]\n"
     ]
    }
   ],
   "source": [
    "def abc():\n",
    "    dict1={'a':1,'b':2,'c':2,'ab':12,'bc':3}\n",
    "    list =[]\n",
    "    for val in dict1.values(): \n",
    "        if val in list: \n",
    "            continue\n",
    "        else:\n",
    "            list.append(val)\n",
    "    print(list)\n",
    "abc()"
   ]
  },
  {
   "cell_type": "markdown",
   "metadata": {},
   "source": [
    "2. Write a Python program to find the sum of all items in a dictionary?"
   ]
  },
  {
   "cell_type": "code",
   "execution_count": 23,
   "metadata": {},
   "outputs": [
    {
     "name": "stdout",
     "output_type": "stream",
     "text": [
      "6\n"
     ]
    }
   ],
   "source": [
    "def Sum(a):\n",
    "    sum = 0\n",
    "    for i in a.values():\n",
    "        sum = sum + i\n",
    "    return sum\n",
    "a = {'a': 1, 'b':2, 'c':3}\n",
    "print(Sum(a))"
   ]
  },
  {
   "cell_type": "markdown",
   "metadata": {},
   "source": [
    "3. Write a Python program to Merging two Dictionaries?"
   ]
  },
  {
   "cell_type": "code",
   "execution_count": 24,
   "metadata": {},
   "outputs": [
    {
     "name": "stdout",
     "output_type": "stream",
     "text": [
      "{'apple': 2, 'orange': 3, 'tangerine': 5, 'cashew': 3, 'almond': 4, 'pistachio': 6}\n"
     ]
    }
   ],
   "source": [
    "dict1 = {\"apple\": 2, \"orange\" : 3, \"tangerine\": 5}\n",
    "dict2 = {\"cashew\": 3, \"almond\": 4, \"pistachio\": 6}\n",
    "dict1.update(dict2)\n",
    "print(dict1)"
   ]
  },
  {
   "cell_type": "markdown",
   "metadata": {},
   "source": [
    "4. Write a Python program to convert key-values list to flat dictionary?"
   ]
  },
  {
   "cell_type": "code",
   "execution_count": 10,
   "metadata": {},
   "outputs": [
    {
     "name": "stdout",
     "output_type": "stream",
     "text": [
      "['Vishnu', 'Ram', 'sita']\n"
     ]
    }
   ],
   "source": [
    "dict = {'511':'Vishnu','512':'Vishnu','513':'Ram','514':'Ram','515':'sita'}\n",
    "list =[] # create empty list\n",
    "for val in dict.values():\n",
    "    if val in list: \n",
    "        continue \n",
    "    else:\n",
    "        list.append(val)\n",
    "\n",
    "print (list)"
   ]
  },
  {
   "cell_type": "markdown",
   "metadata": {},
   "source": [
    "5. Write a Python program to insertion at the beginning in OrderedDict?"
   ]
  },
  {
   "cell_type": "code",
   "execution_count": 2,
   "metadata": {},
   "outputs": [
    {
     "name": "stdout",
     "output_type": "stream",
     "text": [
      "OrderedDict([('a', 1), ('b', 2), ('c', 3), ('d', 4)])\n",
      "Resultant dictionary is OrderedDict([('e', 5), ('a', 1), ('b', 2), ('c', 3), ('d', 4)])\n"
     ]
    }
   ],
   "source": [
    "from collections import OrderedDict\n",
    "dic = OrderedDict({'a':1 , 'b':2 , 'c':3, 'd':4})\n",
    "print(dic)\n",
    "dic.update({'e':5})\n",
    "dic.move_to_end('e', last =False)\n",
    "print(\"Resultant dictionary is\", dic)"
   ]
  },
  {
   "cell_type": "markdown",
   "metadata": {},
   "source": [
    "6. Write a Python program to check order of character in string using OrderedDict()?"
   ]
  },
  {
   "cell_type": "code",
   "execution_count": 9,
   "metadata": {},
   "outputs": [
    {
     "data": {
      "text/plain": [
       "'The order of pattern is incorrect'"
      ]
     },
     "execution_count": 9,
     "metadata": {},
     "output_type": "execute_result"
    }
   ],
   "source": [
    "from collections import OrderedDict\n",
    "def check_order(myinput, pattern):\n",
    "    dic = OrderedDict.fromkeys(myinput)\n",
    "    length = 0\n",
    "    for key,value in dic.items():\n",
    "        if (key == pattern[length]):\n",
    "            length = length + 1\n",
    "        if (length == (len(pattern))):\n",
    "            return 'The order of pattern is correct'\n",
    "    return 'The order of pattern is incorrect'\n",
    "check_order('Hi Arushi','sonia')"
   ]
  },
  {
   "cell_type": "markdown",
   "metadata": {},
   "source": [
    "7. Write a Python program to sort Python Dictionaries by Key or Value?"
   ]
  },
  {
   "cell_type": "code",
   "execution_count": 9,
   "metadata": {},
   "outputs": [
    {
     "name": "stdout",
     "output_type": "stream",
     "text": [
      "[1, 2, 3, 4, 5, 6]\n",
      "[(1, 2), (2, 1), (3, 4), (4, 3), (5, 6), (6, 5)]\n"
     ]
    }
   ],
   "source": [
    "a = {1:2 ,2:1 ,4:3 ,3:4 ,6:5 ,5:6 }\n",
    "print(sorted(a.keys()))\n",
    "print(sorted(a.items()))"
   ]
  }
 ],
 "metadata": {
  "kernelspec": {
   "display_name": "Python 3",
   "language": "python",
   "name": "python3"
  },
  "language_info": {
   "codemirror_mode": {
    "name": "ipython",
    "version": 3
   },
   "file_extension": ".py",
   "mimetype": "text/x-python",
   "name": "python",
   "nbconvert_exporter": "python",
   "pygments_lexer": "ipython3",
   "version": "3.7.6"
  }
 },
 "nbformat": 4,
 "nbformat_minor": 4
}
